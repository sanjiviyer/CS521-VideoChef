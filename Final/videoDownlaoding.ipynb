{
 "cells": [
  {
   "cell_type": "code",
   "execution_count": 2,
   "metadata": {},
   "outputs": [
    {
     "name": "stdout",
     "output_type": "stream",
     "text": [
      "Collecting pytube\n",
      "  Downloading pytube-15.0.0-py3-none-any.whl.metadata (5.0 kB)\n",
      "Downloading pytube-15.0.0-py3-none-any.whl (57 kB)\n",
      "\u001b[2K   \u001b[90m━━━━━━━━━━━━━━━━━━━━━━━━━━━━━━━━━━━━━━━━\u001b[0m \u001b[32m57.6/57.6 kB\u001b[0m \u001b[31m1.3 MB/s\u001b[0m eta \u001b[36m0:00:00\u001b[0m\n",
      "\u001b[?25hInstalling collected packages: pytube\n",
      "Successfully installed pytube-15.0.0\n"
     ]
    }
   ],
   "source": [
    "!pip3 install pytube"
   ]
  },
  {
   "cell_type": "code",
   "execution_count": 1,
   "metadata": {},
   "outputs": [],
   "source": [
    "from pytube import YouTube\n",
    "import random\n",
    "from moviepy.video.io.VideoFileClip import VideoFileClip\n",
    "import os\n",
    "import subprocess\n"
   ]
  },
  {
   "cell_type": "code",
   "execution_count": 7,
   "metadata": {},
   "outputs": [],
   "source": [
    "video_urls = {\n",
    "    \"https://www.youtube.com/watch?v=MjQG-a7d41Q\":\"trailers\",\n",
    "    \"https://www.youtube.com/watch?v=dYo91Fq9tKY\":\"trailers\",\n",
    "    \"https://www.youtube.com/watch?v=cen0rBKLuYE\":\"trailers\",\n",
    "    \"https://www.youtube.com/watch?v=xy8aJw1vYHo\":\"trailers\",\n",
    "    \"https://www.youtube.com/watch?v=V-mugKDQDlg\":\"trailers\",\n",
    "    \"https://www.youtube.com/watch?v=XtFI7SNtVpY\":\"trailers\",\n",
    "    \"https://www.youtube.com/watch?v=qqrpMRDuPfc\":\"trailers\",\n",
    "    \"https://www.youtube.com/watch?v=JnynPtxEY5M\":\"trailers\",\n",
    "    \"https://www.youtube.com/watch?v=1kETt59yn6A\":\"trailers\",\n",
    "    \"https://www.youtube.com/watch?v=IwyZPfc6Rxo\":\"trailers\",\n",
    "    \"https://www.youtube.com/watch?v=ZjtTgleMipY\":\"news\",\n",
    "    \"https://www.youtube.com/watch?v=mljZDyPezeU\":\"news\",\n",
    "    \"https://www.youtube.com/watch?v=FCoXhwHt2VA\":\"news\",\n",
    "    \"https://www.youtube.com/watch?v=VzFrfgOor98\":\"news\",\n",
    "    \"https://www.youtube.com/watch?v=44Q4GmQiOKQ\":\"news\",\n",
    "    \"https://www.youtube.com/watch?v=l5BiHU6Xm_E\":\"news\",\n",
    "    \"https://www.youtube.com/watch?v=Nq3oHn1BAKg\":\"news\",\n",
    "    \"https://www.youtube.com/watch?v=xc_ayIrqh74\":\"news\",\n",
    "    \"https://www.youtube.com/watch?v=AHk9EdlMPHk\":\"news\",\n",
    "    \"https://www.youtube.com/watch?v=Y1l1Ectu6Fo\":\"news\",\n",
    "    \"https://www.youtube.com/watch?v=5DjEpyZZEt8\":\"nature\",\n",
    "    \"https://www.youtube.com/watch?v=4bHUsy74Fss\":\"nature\",\n",
    "    \"https://www.youtube.com/watch?v=IUN664s7N-c\":\"nature\",\n",
    "    \"https://www.youtube.com/watch?v=TiXOQn7z9Hg\":\"nature\",\n",
    "    \"https://www.youtube.com/watch?v=S9atRW1DgbQ\":\"nature\",\n",
    "    \"https://www.youtube.com/watch?v=mYK2L8MQ1z4\":\"nature\",\n",
    "    \"https://www.youtube.com/watch?v=FVxUDIfguiI\":\"nature\",\n",
    "    \"https://www.youtube.com/watch?v=IBRrEcGQ-AI\":\"nature\",\n",
    "    \"https://www.youtube.com/watch?v=4PwDFddpo4c\":\"nature\",\n",
    "    \"https://www.youtube.com/watch?v=8dayofDFbqQ\":\"nature\",\n",
    "    \"https://www.youtube.com/watch?v=keOaQm6RpBg\":\"ads\",\n",
    "    \"https://www.youtube.com/watch?v=TnOrg5oGOmw\":\"ads\",\n",
    "    \"https://www.youtube.com/watch?v=3t6bLugtJkQ\":\"ads\",\n",
    "    \"https://www.youtube.com/watch?v=znIyaGS5BNc\":\"ads\",\n",
    "    \"https://www.youtube.com/watch?v=3jQ_toeu314\":\"ads\",\n",
    "    \"https://www.youtube.com/watch?v=o-Ikkh5oxuo\":\"ads\",  \n",
    "    \"https://www.youtube.com/watch?v=V9fsOaa97F4\":\"ads\",\n",
    "    \"https://www.youtube.com/watch?v=Ob570Cescv4\":\"ads\",  \n",
    "    \"https://www.youtube.com/watch?v=9rx7-ec0p0A\":\"ads\",\n",
    "    \"https://www.youtube.com/watch?v=cYATyMUM0RI\":\"ads\"\n",
    "}\n",
    "\n",
    "categories = ['trailers','news','nature','ads']\n",
    "\n",
    "\n"
   ]
  },
  {
   "cell_type": "code",
   "execution_count": 8,
   "metadata": {},
   "outputs": [],
   "source": [
    "def download_videos(video_data):\n",
    "    downloaded_videos = {}\n",
    "    for url, category in video_data.items():\n",
    "        try:\n",
    "            yt = YouTube(url)\n",
    "            video_path = yt.streams.filter(file_extension='mp4').first().download(output_path=category)\n",
    "            downloaded_videos[video_path] = category\n",
    "        except Exception as e:\n",
    "           print(f\"Error downloading {url}: {e}\")\n",
    "    return downloaded_videos\n",
    "\n",
    "def get_clip_duration(clip):\n",
    "    try:\n",
    "        return clip.duration\n",
    "    except Decorator.DecompressionBombWarning as e:\n",
    "        print(f\"DecompressionBombWarning: {e}\")\n",
    "        return None\n",
    "    except Exception as e:\n",
    "        print(f\"Error retrieving duration: {e}\")\n",
    "        return None\n",
    "    \n",
    "def extract_random_clips(downloaded_videos, clip_duration=20):\n",
    "    for video_path, category in downloaded_videos.items():\n",
    "        try:\n",
    "            clip = VideoFileClip(video_path)\n",
    "            print(\"Loaded clip:\", clip) \n",
    "            total_duration = clip.duration\n",
    "            if total_duration is None:\n",
    "                print(f\"Error: Could not retrieve duration of {video_path}. Skipping.\")\n",
    "                continue\n",
    "            if total_duration < clip_duration:\n",
    "                print(f\"Video duration of {video_path} is shorter than the clip duration. Skipping.\")\n",
    "                continue\n",
    "            start_time = random.uniform(0, total_duration - clip_duration)\n",
    "            random_clip = clip.subclip(start_time, start_time + clip_duration)\n",
    "            clips_dir = os.path.join(category + \"_clips\")\n",
    "            if not os.path.exists(clips_dir):\n",
    "                os.makedirs(clips_dir)\n",
    "            output_path = os.path.join(clips_dir, f\"{os.path.basename(video_path).split('.')[0]}_random_clip.mp4\")\n",
    "            random_clip.write_videofile(output_path, codec='libx264')\n",
    "            print(f\"Extracted random clip from {video_path} to {output_path}\")\n",
    "        except Exception as e:\n",
    "            print(f\"Error extracting random clip from {video_path}: {e}\")\n"
   ]
  },
  {
   "cell_type": "code",
   "execution_count": 9,
   "metadata": {},
   "outputs": [
    {
     "name": "stdout",
     "output_type": "stream",
     "text": [
      "Error downloading https://www.youtube.com/watch?v=cen0rBKLuYE: cen0rBKLuYE is age restricted, and can't be accessed without logging in.\n",
      "Error downloading https://www.youtube.com/watch?v=VzFrfgOor98: VzFrfgOor98 is age restricted, and can't be accessed without logging in.\n",
      "Error downloading https://www.youtube.com/watch?v=mYK2L8MQ1z4: [Errno 92] Illegal byte sequence: '/Users/sanjiv/CS521/Final/nature/Incredible first look at a baby wolverine 🥹  Mammals - BBC.mp4'\n",
      "Error downloading https://www.youtube.com/watch?v=3t6bLugtJkQ: 3t6bLugtJkQ is age restricted, and can't be accessed without logging in.\n",
      "Loaded clip: <moviepy.video.io.VideoFileClip.VideoFileClip object at 0x108eea720>\n",
      "Moviepy - Building video trailers_clips/Mufasa The Lion King  Teaser Trailer_random_clip.mp4.\n",
      "MoviePy - Writing audio in Mufasa The Lion King  Teaser Trailer_random_clipTEMP_MPY_wvf_snd.mp3\n"
     ]
    },
    {
     "name": "stderr",
     "output_type": "stream",
     "text": [
      "                                                                    \r"
     ]
    },
    {
     "name": "stdout",
     "output_type": "stream",
     "text": [
      "MoviePy - Done.\n",
      "Moviepy - Writing video trailers_clips/Mufasa The Lion King  Teaser Trailer_random_clip.mp4\n",
      "\n"
     ]
    },
    {
     "name": "stderr",
     "output_type": "stream",
     "text": [
      "                                                               \r"
     ]
    },
    {
     "name": "stdout",
     "output_type": "stream",
     "text": [
      "Moviepy - Done !\n",
      "Moviepy - video ready trailers_clips/Mufasa The Lion King  Teaser Trailer_random_clip.mp4\n",
      "Extracted random clip from /Users/sanjiv/CS521/Final/trailers/Mufasa The Lion King  Teaser Trailer.mp4 to trailers_clips/Mufasa The Lion King  Teaser Trailer_random_clip.mp4\n",
      "Loaded clip: <moviepy.video.io.VideoFileClip.VideoFileClip object at 0x114bb24b0>\n",
      "Moviepy - Building video trailers_clips/THE WATCHERS  Official Trailer_random_clip.mp4.\n",
      "MoviePy - Writing audio in THE WATCHERS  Official Trailer_random_clipTEMP_MPY_wvf_snd.mp3\n"
     ]
    },
    {
     "name": "stderr",
     "output_type": "stream",
     "text": [
      "                                                                    \r"
     ]
    },
    {
     "name": "stdout",
     "output_type": "stream",
     "text": [
      "MoviePy - Done.\n",
      "Moviepy - Writing video trailers_clips/THE WATCHERS  Official Trailer_random_clip.mp4\n",
      "\n"
     ]
    },
    {
     "name": "stderr",
     "output_type": "stream",
     "text": [
      "                                                               \r"
     ]
    },
    {
     "name": "stdout",
     "output_type": "stream",
     "text": [
      "Moviepy - Done !\n",
      "Moviepy - video ready trailers_clips/THE WATCHERS  Official Trailer_random_clip.mp4\n",
      "Extracted random clip from /Users/sanjiv/CS521/Final/trailers/THE WATCHERS  Official Trailer.mp4 to trailers_clips/THE WATCHERS  Official Trailer_random_clip.mp4\n",
      "Loaded clip: <moviepy.video.io.VideoFileClip.VideoFileClip object at 0x1146e6840>\n",
      "Moviepy - Building video trailers_clips/Joker Folie à Deux  Official Teaser Trailer_random_clip.mp4.\n",
      "MoviePy - Writing audio in Joker Folie à Deux  Official Teaser Trailer_random_clipTEMP_MPY_wvf_snd.mp3\n"
     ]
    },
    {
     "name": "stderr",
     "output_type": "stream",
     "text": [
      "                                                                    \r"
     ]
    },
    {
     "name": "stdout",
     "output_type": "stream",
     "text": [
      "MoviePy - Done.\n",
      "Moviepy - Writing video trailers_clips/Joker Folie à Deux  Official Teaser Trailer_random_clip.mp4\n",
      "\n"
     ]
    },
    {
     "name": "stderr",
     "output_type": "stream",
     "text": [
      "                                                               \r"
     ]
    },
    {
     "name": "stdout",
     "output_type": "stream",
     "text": [
      "Moviepy - Done !\n",
      "Moviepy - video ready trailers_clips/Joker Folie à Deux  Official Teaser Trailer_random_clip.mp4\n",
      "Extracted random clip from /Users/sanjiv/CS521/Final/trailers/Joker Folie à Deux  Official Teaser Trailer.mp4 to trailers_clips/Joker Folie à Deux  Official Teaser Trailer_random_clip.mp4\n",
      "Loaded clip: <moviepy.video.io.VideoFileClip.VideoFileClip object at 0x114b99940>\n",
      "Moviepy - Building video trailers_clips/Fallout - Official Trailer  Prime Video_random_clip.mp4.\n",
      "MoviePy - Writing audio in Fallout - Official Trailer  Prime Video_random_clipTEMP_MPY_wvf_snd.mp3\n"
     ]
    },
    {
     "name": "stderr",
     "output_type": "stream",
     "text": [
      "                                                                    \r"
     ]
    },
    {
     "name": "stdout",
     "output_type": "stream",
     "text": [
      "MoviePy - Done.\n",
      "Moviepy - Writing video trailers_clips/Fallout - Official Trailer  Prime Video_random_clip.mp4\n",
      "\n"
     ]
    },
    {
     "name": "stderr",
     "output_type": "stream",
     "text": [
      "                                                               \r"
     ]
    },
    {
     "name": "stdout",
     "output_type": "stream",
     "text": [
      "Moviepy - Done !\n",
      "Moviepy - video ready trailers_clips/Fallout - Official Trailer  Prime Video_random_clip.mp4\n",
      "Extracted random clip from /Users/sanjiv/CS521/Final/trailers/Fallout - Official Trailer  Prime Video.mp4 to trailers_clips/Fallout - Official Trailer  Prime Video_random_clip.mp4\n",
      "Loaded clip: <moviepy.video.io.VideoFileClip.VideoFileClip object at 0x114c666c0>\n",
      "Moviepy - Building video trailers_clips/Kingdom of the Planet of the Apes  Official Trailer_random_clip.mp4.\n",
      "MoviePy - Writing audio in Kingdom of the Planet of the Apes  Official Trailer_random_clipTEMP_MPY_wvf_snd.mp3\n"
     ]
    },
    {
     "name": "stderr",
     "output_type": "stream",
     "text": [
      "                                                                    \r"
     ]
    },
    {
     "name": "stdout",
     "output_type": "stream",
     "text": [
      "MoviePy - Done.\n",
      "Moviepy - Writing video trailers_clips/Kingdom of the Planet of the Apes  Official Trailer_random_clip.mp4\n",
      "\n"
     ]
    },
    {
     "name": "stderr",
     "output_type": "stream",
     "text": [
      "                                                               \r"
     ]
    },
    {
     "name": "stdout",
     "output_type": "stream",
     "text": [
      "Moviepy - Done !\n",
      "Moviepy - video ready trailers_clips/Kingdom of the Planet of the Apes  Official Trailer_random_clip.mp4\n",
      "Extracted random clip from /Users/sanjiv/CS521/Final/trailers/Kingdom of the Planet of the Apes  Official Trailer.mp4 to trailers_clips/Kingdom of the Planet of the Apes  Official Trailer_random_clip.mp4\n",
      "Loaded clip: <moviepy.video.io.VideoFileClip.VideoFileClip object at 0x114c35fd0>\n",
      "Moviepy - Building video trailers_clips/Godzilla x Kong The New Empire  Official Trailer 2_random_clip.mp4.\n",
      "MoviePy - Writing audio in Godzilla x Kong The New Empire  Official Trailer 2_random_clipTEMP_MPY_wvf_snd.mp3\n"
     ]
    },
    {
     "name": "stderr",
     "output_type": "stream",
     "text": [
      "                                                                    \r"
     ]
    },
    {
     "name": "stdout",
     "output_type": "stream",
     "text": [
      "MoviePy - Done.\n",
      "Moviepy - Writing video trailers_clips/Godzilla x Kong The New Empire  Official Trailer 2_random_clip.mp4\n",
      "\n"
     ]
    },
    {
     "name": "stderr",
     "output_type": "stream",
     "text": [
      "                                                               \r"
     ]
    },
    {
     "name": "stdout",
     "output_type": "stream",
     "text": [
      "Moviepy - Done !\n",
      "Moviepy - video ready trailers_clips/Godzilla x Kong The New Empire  Official Trailer 2_random_clip.mp4\n",
      "Extracted random clip from /Users/sanjiv/CS521/Final/trailers/Godzilla x Kong The New Empire  Official Trailer 2.mp4 to trailers_clips/Godzilla x Kong The New Empire  Official Trailer 2_random_clip.mp4\n",
      "Loaded clip: <moviepy.video.io.VideoFileClip.VideoFileClip object at 0x114c02e40>\n",
      "Moviepy - Building video trailers_clips/Despicable Me 4  Official Trailer_random_clip.mp4.\n",
      "MoviePy - Writing audio in Despicable Me 4  Official Trailer_random_clipTEMP_MPY_wvf_snd.mp3\n"
     ]
    },
    {
     "name": "stderr",
     "output_type": "stream",
     "text": [
      "                                                                    \r"
     ]
    },
    {
     "name": "stdout",
     "output_type": "stream",
     "text": [
      "MoviePy - Done.\n",
      "Moviepy - Writing video trailers_clips/Despicable Me 4  Official Trailer_random_clip.mp4\n",
      "\n"
     ]
    },
    {
     "name": "stderr",
     "output_type": "stream",
     "text": [
      "                                                               \r"
     ]
    },
    {
     "name": "stdout",
     "output_type": "stream",
     "text": [
      "Moviepy - Done !\n",
      "Moviepy - video ready trailers_clips/Despicable Me 4  Official Trailer_random_clip.mp4\n",
      "Extracted random clip from /Users/sanjiv/CS521/Final/trailers/Despicable Me 4  Official Trailer.mp4 to trailers_clips/Despicable Me 4  Official Trailer_random_clip.mp4\n",
      "Loaded clip: <moviepy.video.io.VideoFileClip.VideoFileClip object at 0x114d0b350>\n",
      "Moviepy - Building video trailers_clips/Knuckles Series  Official Trailer  Paramount+_random_clip.mp4.\n",
      "MoviePy - Writing audio in Knuckles Series  Official Trailer  Paramount+_random_clipTEMP_MPY_wvf_snd.mp3\n"
     ]
    },
    {
     "name": "stderr",
     "output_type": "stream",
     "text": [
      "                                                                    \r"
     ]
    },
    {
     "name": "stdout",
     "output_type": "stream",
     "text": [
      "MoviePy - Done.\n",
      "Moviepy - Writing video trailers_clips/Knuckles Series  Official Trailer  Paramount+_random_clip.mp4\n",
      "\n"
     ]
    },
    {
     "name": "stderr",
     "output_type": "stream",
     "text": [
      "                                                               \r"
     ]
    },
    {
     "name": "stdout",
     "output_type": "stream",
     "text": [
      "Moviepy - Done !\n",
      "Moviepy - video ready trailers_clips/Knuckles Series  Official Trailer  Paramount+_random_clip.mp4\n",
      "Extracted random clip from /Users/sanjiv/CS521/Final/trailers/Knuckles Series  Official Trailer  Paramount+.mp4 to trailers_clips/Knuckles Series  Official Trailer  Paramount+_random_clip.mp4\n",
      "Loaded clip: <moviepy.video.io.VideoFileClip.VideoFileClip object at 0x114d0b710>\n",
      "Moviepy - Building video trailers_clips/Cars 4 - Unofficial Trailer_random_clip.mp4.\n",
      "MoviePy - Writing audio in Cars 4 - Unofficial Trailer_random_clipTEMP_MPY_wvf_snd.mp3\n"
     ]
    },
    {
     "name": "stderr",
     "output_type": "stream",
     "text": [
      "                                                                    \r"
     ]
    },
    {
     "name": "stdout",
     "output_type": "stream",
     "text": [
      "MoviePy - Done.\n",
      "Moviepy - Writing video trailers_clips/Cars 4 - Unofficial Trailer_random_clip.mp4\n",
      "\n"
     ]
    },
    {
     "name": "stderr",
     "output_type": "stream",
     "text": [
      "                                                               \r"
     ]
    },
    {
     "name": "stdout",
     "output_type": "stream",
     "text": [
      "Moviepy - Done !\n",
      "Moviepy - video ready trailers_clips/Cars 4 - Unofficial Trailer_random_clip.mp4\n",
      "Extracted random clip from /Users/sanjiv/CS521/Final/trailers/Cars 4 - Unofficial Trailer.mp4 to trailers_clips/Cars 4 - Unofficial Trailer_random_clip.mp4\n",
      "Loaded clip: <moviepy.video.io.VideoFileClip.VideoFileClip object at 0x1147f3e30>\n",
      "Moviepy - Building video news_clips/3 officers killed 5 wounded during standoff_random_clip.mp4.\n",
      "MoviePy - Writing audio in 3 officers killed 5 wounded during standoff_random_clipTEMP_MPY_wvf_snd.mp3\n"
     ]
    },
    {
     "name": "stderr",
     "output_type": "stream",
     "text": [
      "                                                                    \r"
     ]
    },
    {
     "name": "stdout",
     "output_type": "stream",
     "text": [
      "MoviePy - Done.\n",
      "Moviepy - Writing video news_clips/3 officers killed 5 wounded during standoff_random_clip.mp4\n",
      "\n"
     ]
    },
    {
     "name": "stderr",
     "output_type": "stream",
     "text": [
      "                                                               \r"
     ]
    },
    {
     "name": "stdout",
     "output_type": "stream",
     "text": [
      "Moviepy - Done !\n",
      "Moviepy - video ready news_clips/3 officers killed 5 wounded during standoff_random_clip.mp4\n",
      "Extracted random clip from /Users/sanjiv/CS521/Final/news/3 officers killed 5 wounded during standoff.mp4 to news_clips/3 officers killed 5 wounded during standoff_random_clip.mp4\n",
      "Loaded clip: <moviepy.video.io.VideoFileClip.VideoFileClip object at 0x114c66ab0>\n",
      "Moviepy - Building video news_clips/Trump fires back after Biden’s roast during WHCD ‘Really bad’_random_clip.mp4.\n",
      "MoviePy - Writing audio in Trump fires back after Biden’s roast during WHCD ‘Really bad’_random_clipTEMP_MPY_wvf_snd.mp3\n"
     ]
    },
    {
     "name": "stderr",
     "output_type": "stream",
     "text": [
      "                                                                    \r"
     ]
    },
    {
     "name": "stdout",
     "output_type": "stream",
     "text": [
      "MoviePy - Done.\n",
      "Moviepy - Writing video news_clips/Trump fires back after Biden’s roast during WHCD ‘Really bad’_random_clip.mp4\n",
      "\n"
     ]
    },
    {
     "name": "stderr",
     "output_type": "stream",
     "text": [
      "                                                               \r"
     ]
    },
    {
     "name": "stdout",
     "output_type": "stream",
     "text": [
      "Moviepy - Done !\n",
      "Moviepy - video ready news_clips/Trump fires back after Biden’s roast during WHCD ‘Really bad’_random_clip.mp4\n",
      "Extracted random clip from /Users/sanjiv/CS521/Final/news/Trump fires back after Biden’s roast during WHCD ‘Really bad’.mp4 to news_clips/Trump fires back after Biden’s roast during WHCD ‘Really bad’_random_clip.mp4\n",
      "Loaded clip: <moviepy.video.io.VideoFileClip.VideoFileClip object at 0x114d08f80>\n",
      "Moviepy - Building video news_clips/At least 5 killed after violent tornado outbreak_random_clip.mp4.\n",
      "MoviePy - Writing audio in At least 5 killed after violent tornado outbreak_random_clipTEMP_MPY_wvf_snd.mp3\n"
     ]
    },
    {
     "name": "stderr",
     "output_type": "stream",
     "text": [
      "                                                                   \r"
     ]
    },
    {
     "name": "stdout",
     "output_type": "stream",
     "text": [
      "MoviePy - Done.\n",
      "Moviepy - Writing video news_clips/At least 5 killed after violent tornado outbreak_random_clip.mp4\n",
      "\n"
     ]
    },
    {
     "name": "stderr",
     "output_type": "stream",
     "text": [
      "                                                               \r"
     ]
    },
    {
     "name": "stdout",
     "output_type": "stream",
     "text": [
      "Moviepy - Done !\n",
      "Moviepy - video ready news_clips/At least 5 killed after violent tornado outbreak_random_clip.mp4\n",
      "Extracted random clip from /Users/sanjiv/CS521/Final/news/At least 5 killed after violent tornado outbreak.mp4 to news_clips/At least 5 killed after violent tornado outbreak_random_clip.mp4\n",
      "Loaded clip: <moviepy.video.io.VideoFileClip.VideoFileClip object at 0x114c66780>\n",
      "Moviepy - Building video news_clips/Freed immigration detainee charged over home invasion  9 News Australia_random_clip.mp4.\n",
      "MoviePy - Writing audio in Freed immigration detainee charged over home invasion  9 News Australia_random_clipTEMP_MPY_wvf_snd.mp3\n"
     ]
    },
    {
     "name": "stderr",
     "output_type": "stream",
     "text": [
      "                                                                    \r"
     ]
    },
    {
     "name": "stdout",
     "output_type": "stream",
     "text": [
      "MoviePy - Done.\n",
      "Moviepy - Writing video news_clips/Freed immigration detainee charged over home invasion  9 News Australia_random_clip.mp4\n",
      "\n"
     ]
    },
    {
     "name": "stderr",
     "output_type": "stream",
     "text": [
      "                                                               \r"
     ]
    },
    {
     "name": "stdout",
     "output_type": "stream",
     "text": [
      "Moviepy - Done !\n",
      "Moviepy - video ready news_clips/Freed immigration detainee charged over home invasion  9 News Australia_random_clip.mp4\n",
      "Extracted random clip from /Users/sanjiv/CS521/Final/news/Freed immigration detainee charged over home invasion  9 News Australia.mp4 to news_clips/Freed immigration detainee charged over home invasion  9 News Australia_random_clip.mp4\n",
      "Loaded clip: <moviepy.video.io.VideoFileClip.VideoFileClip object at 0x1096ce390>\n",
      "Moviepy - Building video news_clips/California town facing bear ‘invasion’_random_clip.mp4.\n",
      "MoviePy - Writing audio in California town facing bear ‘invasion’_random_clipTEMP_MPY_wvf_snd.mp3\n"
     ]
    },
    {
     "name": "stderr",
     "output_type": "stream",
     "text": [
      "                                                                    \r"
     ]
    },
    {
     "name": "stdout",
     "output_type": "stream",
     "text": [
      "MoviePy - Done.\n",
      "Moviepy - Writing video news_clips/California town facing bear ‘invasion’_random_clip.mp4\n",
      "\n"
     ]
    },
    {
     "name": "stderr",
     "output_type": "stream",
     "text": [
      "                                                               \r"
     ]
    },
    {
     "name": "stdout",
     "output_type": "stream",
     "text": [
      "Moviepy - Done !\n",
      "Moviepy - video ready news_clips/California town facing bear ‘invasion’_random_clip.mp4\n",
      "Extracted random clip from /Users/sanjiv/CS521/Final/news/California town facing bear ‘invasion’.mp4 to news_clips/California town facing bear ‘invasion’_random_clip.mp4\n",
      "Loaded clip: <moviepy.video.io.VideoFileClip.VideoFileClip object at 0x114b2d550>\n",
      "Moviepy - Building video news_clips/CDC Three women likely infected with HIV while getting vampire facial at unlicensed spa_random_clip.mp4.\n",
      "MoviePy - Writing audio in CDC Three women likely infected with HIV while getting vampire facial at unlicensed spa_random_clipTEMP_MPY_wvf_snd.mp3\n"
     ]
    },
    {
     "name": "stderr",
     "output_type": "stream",
     "text": [
      "                                                                    \r"
     ]
    },
    {
     "name": "stdout",
     "output_type": "stream",
     "text": [
      "MoviePy - Done.\n",
      "Moviepy - Writing video news_clips/CDC Three women likely infected with HIV while getting vampire facial at unlicensed spa_random_clip.mp4\n",
      "\n"
     ]
    },
    {
     "name": "stderr",
     "output_type": "stream",
     "text": [
      "                                                               \r"
     ]
    },
    {
     "name": "stdout",
     "output_type": "stream",
     "text": [
      "Moviepy - Done !\n",
      "Moviepy - video ready news_clips/CDC Three women likely infected with HIV while getting vampire facial at unlicensed spa_random_clip.mp4\n",
      "Extracted random clip from /Users/sanjiv/CS521/Final/news/CDC Three women likely infected with HIV while getting vampire facial at unlicensed spa.mp4 to news_clips/CDC Three women likely infected with HIV while getting vampire facial at unlicensed spa_random_clip.mp4\n",
      "Loaded clip: <moviepy.video.io.VideoFileClip.VideoFileClip object at 0x114c66720>\n",
      "Moviepy - Building video news_clips/Apocalypse Lukashenko warns Russian nuclear weapons deployed in Belarus_random_clip.mp4.\n",
      "MoviePy - Writing audio in Apocalypse Lukashenko warns Russian nuclear weapons deployed in Belarus_random_clipTEMP_MPY_wvf_snd.mp3\n"
     ]
    },
    {
     "name": "stderr",
     "output_type": "stream",
     "text": [
      "                                                                    \r"
     ]
    },
    {
     "name": "stdout",
     "output_type": "stream",
     "text": [
      "MoviePy - Done.\n",
      "Moviepy - Writing video news_clips/Apocalypse Lukashenko warns Russian nuclear weapons deployed in Belarus_random_clip.mp4\n",
      "\n"
     ]
    },
    {
     "name": "stderr",
     "output_type": "stream",
     "text": [
      "                                                               \r"
     ]
    },
    {
     "name": "stdout",
     "output_type": "stream",
     "text": [
      "Moviepy - Done !\n",
      "Moviepy - video ready news_clips/Apocalypse Lukashenko warns Russian nuclear weapons deployed in Belarus_random_clip.mp4\n",
      "Extracted random clip from /Users/sanjiv/CS521/Final/news/Apocalypse Lukashenko warns Russian nuclear weapons deployed in Belarus.mp4 to news_clips/Apocalypse Lukashenko warns Russian nuclear weapons deployed in Belarus_random_clip.mp4\n",
      "Loaded clip: <moviepy.video.io.VideoFileClip.VideoFileClip object at 0x1096eaae0>\n",
      "Moviepy - Building video news_clips/Explosion hits military base in Iraq_random_clip.mp4.\n",
      "MoviePy - Writing audio in Explosion hits military base in Iraq_random_clipTEMP_MPY_wvf_snd.mp3\n"
     ]
    },
    {
     "name": "stderr",
     "output_type": "stream",
     "text": [
      "                                                                    \r"
     ]
    },
    {
     "name": "stdout",
     "output_type": "stream",
     "text": [
      "MoviePy - Done.\n",
      "Moviepy - Writing video news_clips/Explosion hits military base in Iraq_random_clip.mp4\n",
      "\n"
     ]
    },
    {
     "name": "stderr",
     "output_type": "stream",
     "text": [
      "                                                               \r"
     ]
    },
    {
     "name": "stdout",
     "output_type": "stream",
     "text": [
      "Moviepy - Done !\n",
      "Moviepy - video ready news_clips/Explosion hits military base in Iraq_random_clip.mp4\n",
      "Extracted random clip from /Users/sanjiv/CS521/Final/news/Explosion hits military base in Iraq.mp4 to news_clips/Explosion hits military base in Iraq_random_clip.mp4\n",
      "Loaded clip: <moviepy.video.io.VideoFileClip.VideoFileClip object at 0x1146a2930>\n",
      "Moviepy - Building video news_clips/China is Sinking 270 Million People are in danger Here’s why  Vantage with Palki Sharma_random_clip.mp4.\n",
      "MoviePy - Writing audio in China is Sinking 270 Million People are in danger Here’s why  Vantage with Palki Sharma_random_clipTEMP_MPY_wvf_snd.mp3\n"
     ]
    },
    {
     "name": "stderr",
     "output_type": "stream",
     "text": [
      "                                                                    \r"
     ]
    },
    {
     "name": "stdout",
     "output_type": "stream",
     "text": [
      "MoviePy - Done.\n",
      "Moviepy - Writing video news_clips/China is Sinking 270 Million People are in danger Here’s why  Vantage with Palki Sharma_random_clip.mp4\n",
      "\n"
     ]
    },
    {
     "name": "stderr",
     "output_type": "stream",
     "text": [
      "                                                               \r"
     ]
    },
    {
     "name": "stdout",
     "output_type": "stream",
     "text": [
      "Moviepy - Done !\n",
      "Moviepy - video ready news_clips/China is Sinking 270 Million People are in danger Here’s why  Vantage with Palki Sharma_random_clip.mp4\n",
      "Extracted random clip from /Users/sanjiv/CS521/Final/news/China is Sinking 270 Million People are in danger Here’s why  Vantage with Palki Sharma.mp4 to news_clips/China is Sinking 270 Million People are in danger Here’s why  Vantage with Palki Sharma_random_clip.mp4\n",
      "Loaded clip: <moviepy.video.io.VideoFileClip.VideoFileClip object at 0x1093fa8a0>\n",
      "Moviepy - Building video nature_clips/Nature Wildflowers in Missouri_random_clip.mp4.\n",
      "MoviePy - Writing audio in Nature Wildflowers in Missouri_random_clipTEMP_MPY_wvf_snd.mp3\n"
     ]
    },
    {
     "name": "stderr",
     "output_type": "stream",
     "text": [
      "                                                                    \r"
     ]
    },
    {
     "name": "stdout",
     "output_type": "stream",
     "text": [
      "MoviePy - Done.\n",
      "Moviepy - Writing video nature_clips/Nature Wildflowers in Missouri_random_clip.mp4\n",
      "\n"
     ]
    },
    {
     "name": "stderr",
     "output_type": "stream",
     "text": [
      "                                                               \r"
     ]
    },
    {
     "name": "stdout",
     "output_type": "stream",
     "text": [
      "Moviepy - Done !\n",
      "Moviepy - video ready nature_clips/Nature Wildflowers in Missouri_random_clip.mp4\n",
      "Extracted random clip from /Users/sanjiv/CS521/Final/nature/Nature Wildflowers in Missouri.mp4 to nature_clips/Nature Wildflowers in Missouri_random_clip.mp4\n",
      "Loaded clip: <moviepy.video.io.VideoFileClip.VideoFileClip object at 0x1093fbce0>\n",
      "Moviepy - Building video nature_clips/4K Forest - Cinematic Forest - 4K Nature Video Ultra HD_random_clip.mp4.\n",
      "MoviePy - Writing audio in 4K Forest - Cinematic Forest - 4K Nature Video Ultra HD_random_clipTEMP_MPY_wvf_snd.mp3\n"
     ]
    },
    {
     "name": "stderr",
     "output_type": "stream",
     "text": [
      "                                                                    \r"
     ]
    },
    {
     "name": "stdout",
     "output_type": "stream",
     "text": [
      "MoviePy - Done.\n",
      "Moviepy - Writing video nature_clips/4K Forest - Cinematic Forest - 4K Nature Video Ultra HD_random_clip.mp4\n",
      "\n"
     ]
    },
    {
     "name": "stderr",
     "output_type": "stream",
     "text": [
      "                                                               \r"
     ]
    },
    {
     "name": "stdout",
     "output_type": "stream",
     "text": [
      "Moviepy - Done !\n",
      "Moviepy - video ready nature_clips/4K Forest - Cinematic Forest - 4K Nature Video Ultra HD_random_clip.mp4\n",
      "Extracted random clip from /Users/sanjiv/CS521/Final/nature/4K Forest - Cinematic Forest - 4K Nature Video Ultra HD.mp4 to nature_clips/4K Forest - Cinematic Forest - 4K Nature Video Ultra HD_random_clip.mp4\n",
      "Loaded clip: <moviepy.video.io.VideoFileClip.VideoFileClip object at 0x114b2d640>\n",
      "Moviepy - Building video nature_clips/The Breathtaking Beauty of Nature  HD_random_clip.mp4.\n",
      "MoviePy - Writing audio in The Breathtaking Beauty of Nature  HD_random_clipTEMP_MPY_wvf_snd.mp3\n"
     ]
    },
    {
     "name": "stderr",
     "output_type": "stream",
     "text": [
      "                                                                   \r"
     ]
    },
    {
     "name": "stdout",
     "output_type": "stream",
     "text": [
      "MoviePy - Done.\n",
      "Moviepy - Writing video nature_clips/The Breathtaking Beauty of Nature  HD_random_clip.mp4\n",
      "\n"
     ]
    },
    {
     "name": "stderr",
     "output_type": "stream",
     "text": [
      "                                                               \r"
     ]
    },
    {
     "name": "stdout",
     "output_type": "stream",
     "text": [
      "Moviepy - Done !\n",
      "Moviepy - video ready nature_clips/The Breathtaking Beauty of Nature  HD_random_clip.mp4\n",
      "Extracted random clip from /Users/sanjiv/CS521/Final/nature/The Breathtaking Beauty of Nature  HD.mp4 to nature_clips/The Breathtaking Beauty of Nature  HD_random_clip.mp4\n",
      "Loaded clip: <moviepy.video.io.VideoFileClip.VideoFileClip object at 0x114d0a930>\n",
      "Moviepy - Building video nature_clips/ANTARCTICA - The Frozen Continent - 4k DRONE Video_random_clip.mp4.\n",
      "MoviePy - Writing audio in ANTARCTICA - The Frozen Continent - 4k DRONE Video_random_clipTEMP_MPY_wvf_snd.mp3\n"
     ]
    },
    {
     "name": "stderr",
     "output_type": "stream",
     "text": [
      "                                                                    \r"
     ]
    },
    {
     "name": "stdout",
     "output_type": "stream",
     "text": [
      "MoviePy - Done.\n",
      "Moviepy - Writing video nature_clips/ANTARCTICA - The Frozen Continent - 4k DRONE Video_random_clip.mp4\n",
      "\n"
     ]
    },
    {
     "name": "stderr",
     "output_type": "stream",
     "text": [
      "                                                               \r"
     ]
    },
    {
     "name": "stdout",
     "output_type": "stream",
     "text": [
      "Moviepy - Done !\n",
      "Moviepy - video ready nature_clips/ANTARCTICA - The Frozen Continent - 4k DRONE Video_random_clip.mp4\n",
      "Extracted random clip from /Users/sanjiv/CS521/Final/nature/ANTARCTICA - The Frozen Continent - 4k DRONE Video.mp4 to nature_clips/ANTARCTICA - The Frozen Continent - 4k DRONE Video_random_clip.mp4\n",
      "Loaded clip: <moviepy.video.io.VideoFileClip.VideoFileClip object at 0x114d08410>\n",
      "Moviepy - Building video nature_clips/Worlds Smallest Wild Dog  Dogs in the Wild Meet The Family  BBC Earth_random_clip.mp4.\n",
      "MoviePy - Writing audio in Worlds Smallest Wild Dog  Dogs in the Wild Meet The Family  BBC Earth_random_clipTEMP_MPY_wvf_snd.mp3\n"
     ]
    },
    {
     "name": "stderr",
     "output_type": "stream",
     "text": [
      "                                                                   \r"
     ]
    },
    {
     "name": "stdout",
     "output_type": "stream",
     "text": [
      "MoviePy - Done.\n",
      "Moviepy - Writing video nature_clips/Worlds Smallest Wild Dog  Dogs in the Wild Meet The Family  BBC Earth_random_clip.mp4\n",
      "\n"
     ]
    },
    {
     "name": "stderr",
     "output_type": "stream",
     "text": [
      "                                                               \r"
     ]
    },
    {
     "name": "stdout",
     "output_type": "stream",
     "text": [
      "Moviepy - Done !\n",
      "Moviepy - video ready nature_clips/Worlds Smallest Wild Dog  Dogs in the Wild Meet The Family  BBC Earth_random_clip.mp4\n",
      "Extracted random clip from /Users/sanjiv/CS521/Final/nature/Worlds Smallest Wild Dog  Dogs in the Wild Meet The Family  BBC Earth.mp4 to nature_clips/Worlds Smallest Wild Dog  Dogs in the Wild Meet The Family  BBC Earth_random_clip.mp4\n",
      "Loaded clip: <moviepy.video.io.VideoFileClip.VideoFileClip object at 0x109437b30>\n",
      "Moviepy - Building video nature_clips/Orcas KIDNAP a baby whale 🐋  Mammals - BBC_random_clip.mp4.\n",
      "MoviePy - Writing audio in Orcas KIDNAP a baby whale 🐋  Mammals - BBC_random_clipTEMP_MPY_wvf_snd.mp3\n"
     ]
    },
    {
     "name": "stderr",
     "output_type": "stream",
     "text": [
      "                                                                    \r"
     ]
    },
    {
     "name": "stdout",
     "output_type": "stream",
     "text": [
      "MoviePy - Done.\n",
      "Moviepy - Writing video nature_clips/Orcas KIDNAP a baby whale 🐋  Mammals - BBC_random_clip.mp4\n",
      "\n"
     ]
    },
    {
     "name": "stderr",
     "output_type": "stream",
     "text": [
      "                                                               \r"
     ]
    },
    {
     "name": "stdout",
     "output_type": "stream",
     "text": [
      "Moviepy - Done !\n",
      "Moviepy - video ready nature_clips/Orcas KIDNAP a baby whale 🐋  Mammals - BBC_random_clip.mp4\n",
      "Extracted random clip from /Users/sanjiv/CS521/Final/nature/Orcas KIDNAP a baby whale 🐋  Mammals - BBC.mp4 to nature_clips/Orcas KIDNAP a baby whale 🐋  Mammals - BBC_random_clip.mp4\n",
      "Loaded clip: <moviepy.video.io.VideoFileClip.VideoFileClip object at 0x114d0b200>\n",
      "Moviepy - Building video nature_clips/Cheeky Crows Prank Baby Otters  The Making of Mammals  BBC Earth_random_clip.mp4.\n",
      "MoviePy - Writing audio in Cheeky Crows Prank Baby Otters  The Making of Mammals  BBC Earth_random_clipTEMP_MPY_wvf_snd.mp3\n"
     ]
    },
    {
     "name": "stderr",
     "output_type": "stream",
     "text": [
      "                                                                   \r"
     ]
    },
    {
     "name": "stdout",
     "output_type": "stream",
     "text": [
      "MoviePy - Done.\n",
      "Moviepy - Writing video nature_clips/Cheeky Crows Prank Baby Otters  The Making of Mammals  BBC Earth_random_clip.mp4\n",
      "\n"
     ]
    },
    {
     "name": "stderr",
     "output_type": "stream",
     "text": [
      "                                                               \r"
     ]
    },
    {
     "name": "stdout",
     "output_type": "stream",
     "text": [
      "Moviepy - Done !\n",
      "Moviepy - video ready nature_clips/Cheeky Crows Prank Baby Otters  The Making of Mammals  BBC Earth_random_clip.mp4\n",
      "Extracted random clip from /Users/sanjiv/CS521/Final/nature/Cheeky Crows Prank Baby Otters  The Making of Mammals  BBC Earth.mp4 to nature_clips/Cheeky Crows Prank Baby Otters  The Making of Mammals  BBC Earth_random_clip.mp4\n",
      "Loaded clip: <moviepy.video.io.VideoFileClip.VideoFileClip object at 0x114c652b0>\n",
      "Moviepy - Building video nature_clips/Emperor penguin chicks jump off a 50-foot cliff in Antarctica NEVER-BEFORE-FILMED FOR TV  Nat Geo_random_clip.mp4.\n",
      "MoviePy - Writing audio in Emperor penguin chicks jump off a 50-foot cliff in Antarctica NEVER-BEFORE-FILMED FOR TV  Nat Geo_random_clipTEMP_MPY_wvf_snd.mp3\n"
     ]
    },
    {
     "name": "stderr",
     "output_type": "stream",
     "text": [
      "                                                                   \r"
     ]
    },
    {
     "name": "stdout",
     "output_type": "stream",
     "text": [
      "MoviePy - Done.\n",
      "Moviepy - Writing video nature_clips/Emperor penguin chicks jump off a 50-foot cliff in Antarctica NEVER-BEFORE-FILMED FOR TV  Nat Geo_random_clip.mp4\n",
      "\n"
     ]
    },
    {
     "name": "stderr",
     "output_type": "stream",
     "text": [
      "                                                               \r"
     ]
    },
    {
     "name": "stdout",
     "output_type": "stream",
     "text": [
      "Moviepy - Done !\n",
      "Moviepy - video ready nature_clips/Emperor penguin chicks jump off a 50-foot cliff in Antarctica NEVER-BEFORE-FILMED FOR TV  Nat Geo_random_clip.mp4\n",
      "Extracted random clip from /Users/sanjiv/CS521/Final/nature/Emperor penguin chicks jump off a 50-foot cliff in Antarctica NEVER-BEFORE-FILMED FOR TV  Nat Geo.mp4 to nature_clips/Emperor penguin chicks jump off a 50-foot cliff in Antarctica NEVER-BEFORE-FILMED FOR TV  Nat Geo_random_clip.mp4\n",
      "Loaded clip: <moviepy.video.io.VideoFileClip.VideoFileClip object at 0x114d0aa80>\n",
      "Moviepy - Building video nature_clips/The Funniest Wolf Howls Are Lazy Ones_random_clip.mp4.\n",
      "MoviePy - Writing audio in The Funniest Wolf Howls Are Lazy Ones_random_clipTEMP_MPY_wvf_snd.mp3\n"
     ]
    },
    {
     "name": "stderr",
     "output_type": "stream",
     "text": [
      "                                                                    \r"
     ]
    },
    {
     "name": "stdout",
     "output_type": "stream",
     "text": [
      "MoviePy - Done.\n",
      "Moviepy - Writing video nature_clips/The Funniest Wolf Howls Are Lazy Ones_random_clip.mp4\n",
      "\n"
     ]
    },
    {
     "name": "stderr",
     "output_type": "stream",
     "text": [
      "                                                               \r"
     ]
    },
    {
     "name": "stdout",
     "output_type": "stream",
     "text": [
      "Moviepy - Done !\n",
      "Moviepy - video ready nature_clips/The Funniest Wolf Howls Are Lazy Ones_random_clip.mp4\n",
      "Extracted random clip from /Users/sanjiv/CS521/Final/nature/The Funniest Wolf Howls Are Lazy Ones.mp4 to nature_clips/The Funniest Wolf Howls Are Lazy Ones_random_clip.mp4\n",
      "Loaded clip: <moviepy.video.io.VideoFileClip.VideoFileClip object at 0x114d0dc40>\n",
      "Moviepy - Building video ads_clips/Eds Heinz Ad_random_clip.mp4.\n",
      "MoviePy - Writing audio in Eds Heinz Ad_random_clipTEMP_MPY_wvf_snd.mp3\n"
     ]
    },
    {
     "name": "stderr",
     "output_type": "stream",
     "text": [
      "                                                                    \r"
     ]
    },
    {
     "name": "stdout",
     "output_type": "stream",
     "text": [
      "MoviePy - Done.\n",
      "Moviepy - Writing video ads_clips/Eds Heinz Ad_random_clip.mp4\n",
      "\n"
     ]
    },
    {
     "name": "stderr",
     "output_type": "stream",
     "text": [
      "                                                               \r"
     ]
    },
    {
     "name": "stdout",
     "output_type": "stream",
     "text": [
      "Moviepy - Done !\n",
      "Moviepy - video ready ads_clips/Eds Heinz Ad_random_clip.mp4\n",
      "Extracted random clip from /Users/sanjiv/CS521/Final/ads/Eds Heinz Ad.mp4 to ads_clips/Eds Heinz Ad_random_clip.mp4\n",
      "Loaded clip: <moviepy.video.io.VideoFileClip.VideoFileClip object at 0x1094375c0>\n",
      "Moviepy - Building video ads_clips/Crossroads  KFC Funny Commercial_random_clip.mp4.\n",
      "MoviePy - Writing audio in Crossroads  KFC Funny Commercial_random_clipTEMP_MPY_wvf_snd.mp3\n"
     ]
    },
    {
     "name": "stderr",
     "output_type": "stream",
     "text": [
      "                                                                    \r"
     ]
    },
    {
     "name": "stdout",
     "output_type": "stream",
     "text": [
      "MoviePy - Done.\n",
      "Moviepy - Writing video ads_clips/Crossroads  KFC Funny Commercial_random_clip.mp4\n",
      "\n"
     ]
    },
    {
     "name": "stderr",
     "output_type": "stream",
     "text": [
      "                                                               \r"
     ]
    },
    {
     "name": "stdout",
     "output_type": "stream",
     "text": [
      "Moviepy - Done !\n",
      "Moviepy - video ready ads_clips/Crossroads  KFC Funny Commercial_random_clip.mp4\n",
      "Extracted random clip from /Users/sanjiv/CS521/Final/ads/Crossroads  KFC Funny Commercial.mp4 to ads_clips/Crossroads  KFC Funny Commercial_random_clip.mp4\n",
      "Loaded clip: <moviepy.video.io.VideoFileClip.VideoFileClip object at 0x114bb3c80>\n",
      "Moviepy - Building video ads_clips/The World Needs More Santas  Coca-Cola_random_clip.mp4.\n",
      "MoviePy - Writing audio in The World Needs More Santas  Coca-Cola_random_clipTEMP_MPY_wvf_snd.mp3\n"
     ]
    },
    {
     "name": "stderr",
     "output_type": "stream",
     "text": [
      "                                                                   \r"
     ]
    },
    {
     "name": "stdout",
     "output_type": "stream",
     "text": [
      "MoviePy - Done.\n",
      "Moviepy - Writing video ads_clips/The World Needs More Santas  Coca-Cola_random_clip.mp4\n",
      "\n"
     ]
    },
    {
     "name": "stderr",
     "output_type": "stream",
     "text": [
      "                                                               \r"
     ]
    },
    {
     "name": "stdout",
     "output_type": "stream",
     "text": [
      "Moviepy - Done !\n",
      "Moviepy - video ready ads_clips/The World Needs More Santas  Coca-Cola_random_clip.mp4\n",
      "Extracted random clip from /Users/sanjiv/CS521/Final/ads/The World Needs More Santas  Coca-Cola.mp4 to ads_clips/The World Needs More Santas  Coca-Cola_random_clip.mp4\n",
      "Loaded clip: <moviepy.video.io.VideoFileClip.VideoFileClip object at 0x1093fbc20>\n",
      "Moviepy - Building video ads_clips/7UP Super Duper Refresher Ft Rashmika  Most Refreshing Summer Campaign_random_clip.mp4.\n",
      "MoviePy - Writing audio in 7UP Super Duper Refresher Ft Rashmika  Most Refreshing Summer Campaign_random_clipTEMP_MPY_wvf_snd.mp3\n"
     ]
    },
    {
     "name": "stderr",
     "output_type": "stream",
     "text": [
      "                                                                    \r"
     ]
    },
    {
     "name": "stdout",
     "output_type": "stream",
     "text": [
      "MoviePy - Done.\n",
      "Moviepy - Writing video ads_clips/7UP Super Duper Refresher Ft Rashmika  Most Refreshing Summer Campaign_random_clip.mp4\n",
      "\n"
     ]
    },
    {
     "name": "stderr",
     "output_type": "stream",
     "text": [
      "                                                               \r"
     ]
    },
    {
     "name": "stdout",
     "output_type": "stream",
     "text": [
      "Moviepy - Done !\n",
      "Moviepy - video ready ads_clips/7UP Super Duper Refresher Ft Rashmika  Most Refreshing Summer Campaign_random_clip.mp4\n",
      "Extracted random clip from /Users/sanjiv/CS521/Final/ads/7UP Super Duper Refresher Ft Rashmika  Most Refreshing Summer Campaign.mp4 to ads_clips/7UP Super Duper Refresher Ft Rashmika  Most Refreshing Summer Campaign_random_clip.mp4\n",
      "Loaded clip: <moviepy.video.io.VideoFileClip.VideoFileClip object at 0x1096eaae0>\n",
      "Moviepy - Building video ads_clips/Every Table Has A Story_random_clip.mp4.\n",
      "MoviePy - Writing audio in Every Table Has A Story_random_clipTEMP_MPY_wvf_snd.mp3\n"
     ]
    },
    {
     "name": "stderr",
     "output_type": "stream",
     "text": [
      "                                                                   \r"
     ]
    },
    {
     "name": "stdout",
     "output_type": "stream",
     "text": [
      "MoviePy - Done.\n",
      "Moviepy - Writing video ads_clips/Every Table Has A Story_random_clip.mp4\n",
      "\n"
     ]
    },
    {
     "name": "stderr",
     "output_type": "stream",
     "text": [
      "                                                               \r"
     ]
    },
    {
     "name": "stdout",
     "output_type": "stream",
     "text": [
      "Moviepy - Done !\n",
      "Moviepy - video ready ads_clips/Every Table Has A Story_random_clip.mp4\n",
      "Extracted random clip from /Users/sanjiv/CS521/Final/ads/Every Table Has A Story.mp4 to ads_clips/Every Table Has A Story_random_clip.mp4\n",
      "Loaded clip: <moviepy.video.io.VideoFileClip.VideoFileClip object at 0x114c670b0>\n",
      "Moviepy - Building video ads_clips/Only Basketball  Nike_random_clip.mp4.\n",
      "MoviePy - Writing audio in Only Basketball  Nike_random_clipTEMP_MPY_wvf_snd.mp3\n"
     ]
    },
    {
     "name": "stderr",
     "output_type": "stream",
     "text": [
      "                                                                    \r"
     ]
    },
    {
     "name": "stdout",
     "output_type": "stream",
     "text": [
      "MoviePy - Done.\n",
      "Moviepy - Writing video ads_clips/Only Basketball  Nike_random_clip.mp4\n",
      "\n"
     ]
    },
    {
     "name": "stderr",
     "output_type": "stream",
     "text": [
      "                                                               \r"
     ]
    },
    {
     "name": "stdout",
     "output_type": "stream",
     "text": [
      "Moviepy - Done !\n",
      "Moviepy - video ready ads_clips/Only Basketball  Nike_random_clip.mp4\n",
      "Extracted random clip from /Users/sanjiv/CS521/Final/ads/Only Basketball  Nike.mp4 to ads_clips/Only Basketball  Nike_random_clip.mp4\n",
      "Loaded clip: <moviepy.video.io.VideoFileClip.VideoFileClip object at 0x11480a210>\n",
      "Moviepy - Building video ads_clips/The Gucci Aria Advertising Campaign_random_clip.mp4.\n",
      "MoviePy - Writing audio in The Gucci Aria Advertising Campaign_random_clipTEMP_MPY_wvf_snd.mp3\n"
     ]
    },
    {
     "name": "stderr",
     "output_type": "stream",
     "text": [
      "                                                                    \r"
     ]
    },
    {
     "name": "stdout",
     "output_type": "stream",
     "text": [
      "MoviePy - Done.\n",
      "Moviepy - Writing video ads_clips/The Gucci Aria Advertising Campaign_random_clip.mp4\n",
      "\n"
     ]
    },
    {
     "name": "stderr",
     "output_type": "stream",
     "text": [
      "                                                               \r"
     ]
    },
    {
     "name": "stdout",
     "output_type": "stream",
     "text": [
      "Moviepy - Done !\n",
      "Moviepy - video ready ads_clips/The Gucci Aria Advertising Campaign_random_clip.mp4\n",
      "Extracted random clip from /Users/sanjiv/CS521/Final/ads/The Gucci Aria Advertising Campaign.mp4 to ads_clips/The Gucci Aria Advertising Campaign_random_clip.mp4\n",
      "Loaded clip: <moviepy.video.io.VideoFileClip.VideoFileClip object at 0x11480a8a0>\n",
      "Moviepy - Building video ads_clips/Retirement is about exploring your wide open future_random_clip.mp4.\n",
      "MoviePy - Writing audio in Retirement is about exploring your wide open future_random_clipTEMP_MPY_wvf_snd.mp3\n"
     ]
    },
    {
     "name": "stderr",
     "output_type": "stream",
     "text": [
      "                                                                    \r"
     ]
    },
    {
     "name": "stdout",
     "output_type": "stream",
     "text": [
      "MoviePy - Done.\n",
      "Moviepy - Writing video ads_clips/Retirement is about exploring your wide open future_random_clip.mp4\n",
      "\n"
     ]
    },
    {
     "name": "stderr",
     "output_type": "stream",
     "text": [
      "                                                               \r"
     ]
    },
    {
     "name": "stdout",
     "output_type": "stream",
     "text": [
      "Moviepy - Done !\n",
      "Moviepy - video ready ads_clips/Retirement is about exploring your wide open future_random_clip.mp4\n",
      "Extracted random clip from /Users/sanjiv/CS521/Final/ads/Retirement is about exploring your wide open future.mp4 to ads_clips/Retirement is about exploring your wide open future_random_clip.mp4\n",
      "Loaded clip: <moviepy.video.io.VideoFileClip.VideoFileClip object at 0x114c676b0>\n",
      "Moviepy - Building video ads_clips/The Travis Scott Meal - McDonalds Official Commercial_random_clip.mp4.\n",
      "MoviePy - Writing audio in The Travis Scott Meal - McDonalds Official Commercial_random_clipTEMP_MPY_wvf_snd.mp3\n"
     ]
    },
    {
     "name": "stderr",
     "output_type": "stream",
     "text": [
      "                                                                    \r"
     ]
    },
    {
     "name": "stdout",
     "output_type": "stream",
     "text": [
      "MoviePy - Done.\n",
      "Moviepy - Writing video ads_clips/The Travis Scott Meal - McDonalds Official Commercial_random_clip.mp4\n",
      "\n"
     ]
    },
    {
     "name": "stderr",
     "output_type": "stream",
     "text": [
      "                                                               \r"
     ]
    },
    {
     "name": "stdout",
     "output_type": "stream",
     "text": [
      "Moviepy - Done !\n",
      "Moviepy - video ready ads_clips/The Travis Scott Meal - McDonalds Official Commercial_random_clip.mp4\n",
      "Extracted random clip from /Users/sanjiv/CS521/Final/ads/The Travis Scott Meal - McDonalds Official Commercial.mp4 to ads_clips/The Travis Scott Meal - McDonalds Official Commercial_random_clip.mp4\n"
     ]
    }
   ],
   "source": [
    "downloaded_videos = download_videos(video_urls)\n",
    "extract_random_clips(downloaded_videos)"
   ]
  }
 ],
 "metadata": {
  "kernelspec": {
   "display_name": "Python 3",
   "language": "python",
   "name": "python3"
  },
  "language_info": {
   "codemirror_mode": {
    "name": "ipython",
    "version": 3
   },
   "file_extension": ".py",
   "mimetype": "text/x-python",
   "name": "python",
   "nbconvert_exporter": "python",
   "pygments_lexer": "ipython3",
   "version": "3.12.3"
  }
 },
 "nbformat": 4,
 "nbformat_minor": 2
}
